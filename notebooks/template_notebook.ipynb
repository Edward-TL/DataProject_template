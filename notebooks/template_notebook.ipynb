{
 "cells": [
  {
   "cell_type": "markdown",
   "metadata": {},
   "source": [
    "**ESP:**\n",
    "---\n",
    "Con esta celda se cargará la carpeta del proyecto como si estuviera instalado, y se maneja todo como si ya fuera una librería de python. De paso, los built-in magic commands permiten que se vuelvan a cargar todas las librerías usadas antes de su ejecución, implicando que los módulos hechos, se vuelven a cargar sin necesidad de reiniciar la notebook.\n",
    "\n",
    "**ENG:**\n",
    "---\n",
    "With the next cell, the project will be load as it was installed, so you can manage it as a python module. The builit-in magic commands allows to reload all the libraries used before its execution, wich implies that the maden modules will be reoladed without restarting the notebook.\n"
   ]
  },
  {
   "cell_type": "code",
   "execution_count": 1,
   "metadata": {},
   "outputs": [],
   "source": [
    "%load_ext autoreload\n",
    "%autoreload 2\n",
    "from config_env import add_project_path\n",
    "\n",
    "add_project_path()"
   ]
  },
  {
   "cell_type": "code",
   "execution_count": 2,
   "metadata": {},
   "outputs": [],
   "source": [
    "from extract.sql import DB_URL\n",
    "\n",
    "# DB_URL"
   ]
  }
 ],
 "metadata": {
  "kernelspec": {
   "display_name": "Python 3",
   "language": "python",
   "name": "python3"
  },
  "language_info": {
   "codemirror_mode": {
    "name": "ipython",
    "version": 3
   },
   "file_extension": ".py",
   "mimetype": "text/x-python",
   "name": "python",
   "nbconvert_exporter": "python",
   "pygments_lexer": "ipython3",
   "version": "3.11.9"
  }
 },
 "nbformat": 4,
 "nbformat_minor": 2
}
